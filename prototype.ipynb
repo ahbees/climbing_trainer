{
 "cells": [
  {
   "cell_type": "code",
   "execution_count": 1,
   "id": "a0578a65",
   "metadata": {},
   "outputs": [
    {
     "ename": "ModuleNotFoundError",
     "evalue": "No module named 'pandas'",
     "output_type": "error",
     "traceback": [
      "\u001b[1;31m---------------------------------------------------------------------------\u001b[0m",
      "\u001b[1;31mModuleNotFoundError\u001b[0m                       Traceback (most recent call last)",
      "Cell \u001b[1;32mIn[1], line 1\u001b[0m\n\u001b[1;32m----> 1\u001b[0m \u001b[38;5;28;01mimport\u001b[39;00m\u001b[38;5;250m \u001b[39m\u001b[38;5;21;01mpandas\u001b[39;00m\u001b[38;5;250m \u001b[39m\u001b[38;5;28;01mas\u001b[39;00m\u001b[38;5;250m \u001b[39m\u001b[38;5;21;01mpd\u001b[39;00m\n\u001b[0;32m      2\u001b[0m \u001b[38;5;28;01mimport\u001b[39;00m\u001b[38;5;250m \u001b[39m\u001b[38;5;21;01mnumpy\u001b[39;00m\u001b[38;5;250m \u001b[39m\u001b[38;5;28;01mas\u001b[39;00m\u001b[38;5;250m \u001b[39m\u001b[38;5;21;01mnp\u001b[39;00m\n\u001b[0;32m      3\u001b[0m \u001b[38;5;28;01mimport\u001b[39;00m\u001b[38;5;250m \u001b[39m\u001b[38;5;21;01mmath\u001b[39;00m\n",
      "\u001b[1;31mModuleNotFoundError\u001b[0m: No module named 'pandas'"
     ]
    }
   ],
   "source": [
    "import pandas as pd\n",
    "import numpy as np\n",
    "import math"
   ]
  },
  {
   "cell_type": "code",
   "execution_count": 7,
   "id": "6769c8af",
   "metadata": {},
   "outputs": [],
   "source": [
    "import pathlib\n",
    "pathlib.Path(\"data\").mkdir(exist_ok=True)\n",
    "pathlib.Path(\"assessments\").mkdir(exist_ok=True)"
   ]
  },
  {
   "cell_type": "code",
   "execution_count": 8,
   "id": "45207187",
   "metadata": {},
   "outputs": [],
   "source": [
    "TESTS = [\n",
    "    (\"max_pullups\", \"Max body-weight pull-ups (reps)\"),\n",
    "    (\"weighted_pullups_5RM\", \"5-rep max weighted pull-ups (+lb)\"),\n",
    "    (\"max_hang_5s\", \"Max weighted 5-sec hang (+lb)\"),\n",
    "    (\"bw_hangs_failure\", \"Body-weight hang to failure (sec)\"),\n",
    "    (\"repeater_20mm\", \"5 s on / 5 s off repeater to failure (total sec)\")\n",
    "]"
   ]
  },
  {
   "cell_type": "code",
   "execution_count": null,
   "id": "c633e3c7",
   "metadata": {},
   "outputs": [],
   "source": [
    "import os\n",
    "import datetime\n",
    "import json\n",
    "\n",
    "def record_assessment(username):\n",
    "    os.makedirs(\"assessments\", exist_ok=True)\n",
    "    \n",
    "    row = {\n",
    "        \"username\": username,\n",
    "        \"date\": datetime.date.today().isoformat(),\n",
    "    }\n",
    "    \n",
    "    # Loop through the tests and prompt the user for a result\n",
    "    for key, prompt in TESTS:\n",
    "        value = float(input(f\"{prompt}: \"))\n",
    "        row[key] = value\n",
    "    \n",
    "    # Write the user's assessment history to a file\n",
    "    path = f\"assessments/{username}.jsonl\"\n",
    "    with open(path, \"a\", encoding=\"utf-8\") as f:\n",
    "        f.write(json.dumps(row) + \"\\n\")\n",
    "\n",
    "    print(\"Assessment saved.\")"
   ]
  },
  {
   "cell_type": "code",
   "execution_count": 10,
   "id": "3afc8a96",
   "metadata": {},
   "outputs": [
    {
     "name": "stdout",
     "output_type": "stream",
     "text": [
      "Assessment saved.\n"
     ]
    }
   ],
   "source": [
    "record_assessment(\"demo\")"
   ]
  },
  {
   "cell_type": "code",
   "execution_count": null,
   "id": "42fac16d",
   "metadata": {},
   "outputs": [],
   "source": []
  }
 ],
 "metadata": {
  "kernelspec": {
   "display_name": "Python 3",
   "language": "python",
   "name": "python3"
  },
  "language_info": {
   "codemirror_mode": {
    "name": "ipython",
    "version": 3
   },
   "file_extension": ".py",
   "mimetype": "text/x-python",
   "name": "python",
   "nbconvert_exporter": "python",
   "pygments_lexer": "ipython3",
   "version": "3.10.6"
  }
 },
 "nbformat": 4,
 "nbformat_minor": 5
}
