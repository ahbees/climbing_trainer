{
 "cells": [
  {
   "cell_type": "code",
   "execution_count": 2,
   "id": "a0578a65",
   "metadata": {},
   "outputs": [],
   "source": [
    "import pandas as pd\n",
    "import numpy as np\n",
    "import math"
   ]
  },
  {
   "cell_type": "code",
   "execution_count": 3,
   "id": "6769c8af",
   "metadata": {},
   "outputs": [],
   "source": [
    "import pathlib\n",
    "pathlib.Path(\"data\").mkdir(exist_ok=True)\n",
    "pathlib.Path(\"assessments\").mkdir(exist_ok=True)"
   ]
  },
  {
   "cell_type": "code",
   "execution_count": 4,
   "id": "45207187",
   "metadata": {},
   "outputs": [],
   "source": [
    "TESTS = [\n",
    "    (\"max_pullups\", \"Max body-weight pull-ups (reps)\"),\n",
    "    (\"weighted_pullups_5RM\", \"5-rep max weighted pull-ups (+lb)\"),\n",
    "    (\"max_hang_5s\", \"Max weighted 5-sec hang (+lb)\"),\n",
    "    (\"bw_hangs_failure\", \"Body-weight hang to failure (sec)\"),\n",
    "    (\"repeater_20mm\", \"5 s on / 5 s off repeater to failure (total sec)\")\n",
    "]"
   ]
  },
  {
   "cell_type": "code",
   "execution_count": 5,
   "id": "c633e3c7",
   "metadata": {},
   "outputs": [],
   "source": [
    "import os\n",
    "import datetime\n",
    "import json\n",
    "\n",
    "def record_assessment(username):\n",
    "    os.makedirs(\"assessments\", exist_ok=True)\n",
    "    \n",
    "    row = {\n",
    "        \"username\": username,\n",
    "        \"date\": datetime.date.today().isoformat(),\n",
    "    }\n",
    "    \n",
    "    # Loop through the tests and prompt the user for a result\n",
    "    for key, prompt in TESTS:\n",
    "        value = float(input(f\"{prompt}: \"))\n",
    "        row[key] = value\n",
    "    \n",
    "    # Write the user's assessment history to a file\n",
    "    path = f\"assessments/{username}.jsonl\"\n",
    "    with open(path, \"a\", encoding=\"utf-8\") as f:\n",
    "        f.write(json.dumps(row) + \"\\n\")\n",
    "\n",
    "    print(\"Assessment saved.\")"
   ]
  },
  {
   "cell_type": "code",
   "execution_count": 6,
   "id": "3afc8a96",
   "metadata": {},
   "outputs": [
    {
     "name": "stdout",
     "output_type": "stream",
     "text": [
      "Assessment saved.\n"
     ]
    }
   ],
   "source": [
    "record_assessment(\"demo\")"
   ]
  },
  {
   "cell_type": "code",
   "execution_count": 9,
   "id": "42fac16d",
   "metadata": {},
   "outputs": [
    {
     "data": {
      "text/html": [
       "<div>\n",
       "<style scoped>\n",
       "    .dataframe tbody tr th:only-of-type {\n",
       "        vertical-align: middle;\n",
       "    }\n",
       "\n",
       "    .dataframe tbody tr th {\n",
       "        vertical-align: top;\n",
       "    }\n",
       "\n",
       "    .dataframe thead th {\n",
       "        text-align: right;\n",
       "    }\n",
       "</style>\n",
       "<table border=\"1\" class=\"dataframe\">\n",
       "  <thead>\n",
       "    <tr style=\"text-align: right;\">\n",
       "      <th></th>\n",
       "      <th>username</th>\n",
       "      <th>date</th>\n",
       "      <th>max_pullups</th>\n",
       "      <th>weighted_pullups_5RM</th>\n",
       "      <th>max_hang_5s</th>\n",
       "      <th>bw_hangs_failure</th>\n",
       "      <th>repeater_20mm</th>\n",
       "    </tr>\n",
       "  </thead>\n",
       "  <tbody>\n",
       "    <tr>\n",
       "      <th>0</th>\n",
       "      <td>demo</td>\n",
       "      <td>2025-06-19</td>\n",
       "      <td>10</td>\n",
       "      <td>25</td>\n",
       "      <td>100</td>\n",
       "      <td>60</td>\n",
       "      <td>300</td>\n",
       "    </tr>\n",
       "  </tbody>\n",
       "</table>\n",
       "</div>"
      ],
      "text/plain": [
       "  username       date  max_pullups  weighted_pullups_5RM  max_hang_5s  \\\n",
       "0     demo 2025-06-19           10                    25          100   \n",
       "\n",
       "   bw_hangs_failure  repeater_20mm  \n",
       "0                60            300  "
      ]
     },
     "execution_count": 9,
     "metadata": {},
     "output_type": "execute_result"
    }
   ],
   "source": [
    "df = pd.read_json(\"assessments/demo.jsonl\", lines=True)\n",
    "df.head()"
   ]
  },
  {
   "cell_type": "code",
   "execution_count": null,
   "id": "2ef61d98",
   "metadata": {},
   "outputs": [
    {
     "name": "stdout",
     "output_type": "stream",
     "text": [
      "{'weighted_pullup_5RM': (25, 45), 'max_hang_5s': (45, 77)}\n"
     ]
    }
   ],
   "source": [
    "def get_grade_norms(grade, path=\"data/norms_boulder_lb.csv\"):\n",
    "    df = pd.read_csv(path)\n",
    "    subset = df[df[\"grade\"] == grade]\n",
    "    # turn into {test: (low, high)}\n",
    "    return dict(zip(subset[\"test\"], zip(subset[\"low\"], subset[\"high\"])))\n",
    "\n",
    "norms = get_grade_norms(\"V6\") \n",
    "print(norms)"
   ]
  },
  {
   "cell_type": "code",
   "execution_count": 19,
   "id": "97f1bf9e",
   "metadata": {},
   "outputs": [],
   "source": [
    "# Compares a climber's assessment results against grade norms\n",
    "def score_against_norms(user_row: dict, norms: dict, z_threshold: float = 1.0):\n",
    "    z_scores = {}\n",
    "    flags = {}\n",
    "    \n",
    "    for test, (low, high) in norms.items():\n",
    "        user_val = user_row.get(test)\n",
    "        if user_val is None:\n",
    "            continue\n",
    "\n",
    "        bounds = np.asarray([low, high], dtype=float)\n",
    "        mean = bounds.mean()\n",
    "        std = np.ptp(bounds) / 2    # same as (max - min) / 2\n",
    "        if std == 0:\n",
    "            std = 1e-9  # avoid div-by-zero\n",
    "            \n",
    "        z = (user_val - mean) / std\n",
    "        z_scores[test] = z     \n",
    "        \n",
    "        if z < -z_threshold:\n",
    "            flags[test] = \"weakness\"\n",
    "        elif z >  z_threshold:\n",
    "            flags[test] = \"strength\"\n",
    "        else:\n",
    "            flags[test] = \"average\"\n",
    "\n",
    "    return z_scores, flags\n",
    "\n",
    "latest_row = (\n",
    "    pd.read_json(\"assessments/demo.jsonl\", lines=True)\n",
    "      .iloc[-1]\n",
    "      .to_dict()\n",
    ")"
   ]
  },
  {
   "cell_type": "code",
   "execution_count": 20,
   "id": "c3ef2d5f",
   "metadata": {},
   "outputs": [
    {
     "name": "stdout",
     "output_type": "stream",
     "text": [
      "Z-scores:  {'max_hang_5s': np.float64(2.4375)}\n",
      "Flags:  {'max_hang_5s': 'strength'}\n"
     ]
    }
   ],
   "source": [
    "grade = \"V6\"\n",
    "norms = get_grade_norms(grade)\n",
    "\n",
    "z, f = score_against_norms(latest_row, norms)\n",
    "\n",
    "print(\"Z-scores: \", z)\n",
    "print(\"Flags: \", f)"
   ]
  },
  {
   "cell_type": "code",
   "execution_count": null,
   "id": "a67aa51a",
   "metadata": {},
   "outputs": [],
   "source": []
  }
 ],
 "metadata": {
  "kernelspec": {
   "display_name": "Python 3",
   "language": "python",
   "name": "python3"
  },
  "language_info": {
   "codemirror_mode": {
    "name": "ipython",
    "version": 3
   },
   "file_extension": ".py",
   "mimetype": "text/x-python",
   "name": "python",
   "nbconvert_exporter": "python",
   "pygments_lexer": "ipython3",
   "version": "3.10.12"
  }
 },
 "nbformat": 4,
 "nbformat_minor": 5
}
